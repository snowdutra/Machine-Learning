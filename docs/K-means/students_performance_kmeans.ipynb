{
 "cells": [
  {
   "cell_type": "markdown",
   "id": "3d500621",
   "metadata": {},
   "source": [
    "# Análise de Desempenho dos Estudantes com K-Means\n",
    "\n",
    "Este notebook realiza uma análise de agrupamento (clustering) dos estudantes usando o algoritmo K-Means, seguindo o padrão do projeto KNN, para fins de comparação e estudo de técnicas não supervisionadas."
   ]
  },
  {
   "cell_type": "markdown",
   "id": "44e92e5c",
   "metadata": {},
   "source": [
    "# 1. Importação das Bibliotecas\n",
    "\n",
    "Utilizaremos pandas, numpy, matplotlib, seaborn e scikit-learn (KMeans, métricas de cluster)."
   ]
  },
  {
   "cell_type": "code",
   "execution_count": null,
   "id": "b5aa18a0",
   "metadata": {},
   "outputs": [],
   "source": [
    "import pandas as pd\n",
    "import numpy as np\n",
    "import matplotlib.pyplot as plt\n",
    "import seaborn as sns\n",
    "from sklearn.cluster import KMeans\n",
    "from sklearn.metrics import silhouette_score, adjusted_rand_score\n",
    "from sklearn.preprocessing import StandardScaler, LabelEncoder"
   ]
  },
  {
   "cell_type": "markdown",
   "id": "291a87df",
   "metadata": {},
   "source": [
    "# 2. Carregamento do Dataset\n",
    "\n",
    "O dataset utilizado é o mesmo do projeto KNN, contendo informações sobre desempenho de estudantes em exames."
   ]
  },
  {
   "cell_type": "code",
   "execution_count": null,
   "id": "507e3538",
   "metadata": {},
   "outputs": [],
   "source": [
    "import kagglehub\n",
    "\n",
    "# Baixar o dataset do Kaggle\n",
    "path = kagglehub.dataset_download(\"spscientist/students-performance-in-exams\")\n",
    "print(\"Path to dataset files:\", path)\n",
    "\n",
    "# Carregar o arquivo CSV\n",
    "csv_path = path + \"/StudentsPerformance.csv\"\n",
    "df = pd.read_csv(csv_path)\n",
    "df.head()"
   ]
  },
  {
   "cell_type": "markdown",
   "id": "9282603b",
   "metadata": {},
   "source": [
    "# 3. Análise Exploratória dos Dados\n",
    "\n",
    "Verificação do formato, tipos de dados, valores nulos e estatísticas descritivas."
   ]
  },
  {
   "cell_type": "code",
   "execution_count": null,
   "id": "eb8a6678",
   "metadata": {},
   "outputs": [],
   "source": [
    "print('Formato do dataset:', df.shape)\n",
    "df.info()\n",
    "print('\\nValores nulos por coluna:')\n",
    "print(df.isnull().sum())\n",
    "print('\\nEstatísticas das notas:')\n",
    "print(df[['math score', 'reading score', 'writing score']].describe())"
   ]
  },
  {
   "cell_type": "markdown",
   "id": "f7b4665e",
   "metadata": {},
   "source": [
    "# 4. Visualização das Notas\n",
    "\n",
    "Histogramas e boxplots para visualizar a distribuição das notas dos estudantes."
   ]
  },
  {
   "cell_type": "code",
   "execution_count": null,
   "id": "518b2f5a",
   "metadata": {},
   "outputs": [],
   "source": [
    "import os\n",
    "os.makedirs('imagens', exist_ok=True)\n",
    "\n",
    "# Histogramas das notas\n",
    "fig, axes = plt.subplots(1, 3, figsize=(18, 5))\n",
    "for idx, col in enumerate(['math score', 'reading score', 'writing score']):\n",
    "    sns.histplot(df[col], bins=20, ax=axes[idx], kde=True)\n",
    "    axes[idx].set_title(f'Distribuição: {col}')\n",
    "plt.tight_layout()\n",
    "plt.savefig('imagens/histograma_notas.png')\n",
    "plt.show()\n",
    "plt.close(fig)\n",
    "\n",
    "# Boxplot das notas\n",
    "fig2, ax2 = plt.subplots(figsize=(10, 6))\n",
    "sns.boxplot(data=df[['math score', 'reading score', 'writing score']], ax=ax2)\n",
    "ax2.set_title('Boxplot das Notas')\n",
    "plt.tight_layout()\n",
    "plt.savefig('imagens/boxplot_notas.png')\n",
    "plt.show()\n",
    "plt.close(fig2)"
   ]
  },
  {
   "cell_type": "markdown",
   "id": "fc357e73",
   "metadata": {},
   "source": [
    "# 5. Estatísticas das Notas e Interpretação\n",
    "\n",
    "Análise estatística das notas dos estudantes, incluindo média, desvio padrão, valores mínimos e máximos."
   ]
  },
  {
   "cell_type": "code",
   "execution_count": null,
   "id": "58595e3a",
   "metadata": {},
   "outputs": [],
   "source": [
    "# Estatísticas já exibidas acima. Podemos complementar com visualização de pairplot para explorar relações.\n",
    "if 'passed' not in df.columns:\n",
    "    df['passed'] = (df['math score'] >= 60).astype(int)\n",
    "sns.pairplot(df, hue='passed')\n",
    "plt.savefig('imagens/pairplot_passed.png')\n",
    "plt.show()"
   ]
  },
  {
   "cell_type": "markdown",
   "id": "f4167f92",
   "metadata": {},
   "source": [
    "# 6. Pré-processamento dos Dados\n",
    "\n",
    "Codificação de variáveis categóricas e normalização das variáveis numéricas para o K-means."
   ]
  },
  {
   "cell_type": "code",
   "execution_count": null,
   "id": "ce315e65",
   "metadata": {},
   "outputs": [],
   "source": [
    "# Codificação das variáveis categóricas\n",
    "df_encoded = df.copy()\n",
    "categorical_cols = df_encoded.select_dtypes(include=['object']).columns\n",
    "for col in categorical_cols:\n",
    "    df_encoded[col] = LabelEncoder().fit_transform(df_encoded[col])\n",
    "\n",
    "# Normalização das variáveis numéricas\n",
    "scaler = StandardScaler()\n",
    "features = ['math score', 'reading score', 'writing score']\n",
    "df_encoded[features] = scaler.fit_transform(df_encoded[features])\n",
    "df_encoded.head()"
   ]
  },
  {
   "cell_type": "markdown",
   "id": "e9675ba0",
   "metadata": {},
   "source": [
    "# 7. Treinamento do Modelo K-Means\n",
    "\n",
    "Aplicação do algoritmo K-means para agrupar os estudantes. O número de clusters será definido com base na análise exploratória e/ou métodos como o cotovelo (elbow method)."
   ]
  },
  {
   "cell_type": "code",
   "execution_count": null,
   "id": "6f803293",
   "metadata": {},
   "outputs": [],
   "source": [
    "# Encontrando o número ideal de clusters (Elbow Method)\n",
    "wcss = []\n",
    "X = df_encoded[features]\n",
    "for k in range(1, 11):\n",
    "    kmeans = KMeans(n_clusters=k, random_state=42, n_init=10)\n",
    "    kmeans.fit(X)\n",
    "    wcss.append(kmeans.inertia_)\n",
    "plt.figure(figsize=(8, 5))\n",
    "plt.plot(range(1, 11), wcss, marker='o')\n",
    "plt.xlabel('Número de clusters (K)')\n",
    "plt.ylabel('WCSS')\n",
    "plt.title('Método do Cotovelo')\n",
    "plt.savefig('imagens/elbow_kmeans.png')\n",
    "plt.show()"
   ]
  },
  {
   "cell_type": "code",
   "execution_count": null,
   "id": "c7043416",
   "metadata": {},
   "outputs": [],
   "source": [
    "# Treinando o modelo K-means com o número de clusters escolhido (exemplo: 2)\n",
    "k = 2\n",
    "kmeans = KMeans(n_clusters=k, random_state=42, n_init=10)\n",
    "clusters = kmeans.fit_predict(X)\n",
    "df_encoded['cluster'] = clusters\n",
    "print('Centroides:', kmeans.cluster_centers_)"
   ]
  },
  {
   "cell_type": "markdown",
   "id": "fef4266a",
   "metadata": {},
   "source": [
    "# 8. Avaliação do Modelo K-Means\n",
    "\n",
    "Avaliação dos clusters formados usando métricas como silhouette score e visualização dos agrupamentos."
   ]
  },
  {
   "cell_type": "code",
   "execution_count": null,
   "id": "8eae3340",
   "metadata": {},
   "outputs": [],
   "source": [
    "# Silhouette Score\n",
    "sil_score = silhouette_score(X, clusters)\n",
    "print(f'Silhouette Score: {sil_score:.3f}')\n",
    "\n",
    "# Visualização dos clusters (usando duas notas para plot 2D)\n",
    "plt.figure(figsize=(8,6))\n",
    "sns.scatterplot(x='math score', y='reading score', hue='cluster', data=df_encoded, palette='Set1')\n",
    "plt.title('Clusters formados pelo K-means')\n",
    "plt.savefig('imagens/clusters_kmeans.png')\n",
    "plt.show()"
   ]
  },
  {
   "cell_type": "markdown",
   "id": "f3378fc2",
   "metadata": {},
   "source": [
    "# 9. Relatório Final\n",
    "\n",
    "Resumo dos resultados obtidos, análise dos clusters, possíveis melhorias e comparação com métodos supervisionados (KNN)."
   ]
  }
 ],
 "metadata": {
  "language_info": {
   "name": "python"
  }
 },
 "nbformat": 4,
 "nbformat_minor": 5
}
